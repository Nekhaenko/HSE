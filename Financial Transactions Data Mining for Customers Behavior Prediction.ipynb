{
 "cells": [
  {
   "cell_type": "code",
   "execution_count": 1,
   "metadata": {},
   "outputs": [],
   "source": [
    "import pandas as pd\n",
    "from sklearn.feature_extraction.text import TfidfVectorizer, CountVectorizer\n",
    "from sklearn import metrics\n",
    "from sklearn.model_selection import train_test_split\n",
    "from sklearn.linear_model import LogisticRegression\n",
    "from sklearn.ensemble import RandomForestClassifier\n",
    "import numpy as np\n",
    "from sklearn.pipeline import Pipeline\n",
    "from sklearn.preprocessing import LabelEncoder\n",
    "import matplotlib.pyplot as plt\n",
    "%matplotlib inline\n",
    "from gensim import models\n",
    "import nltk\n",
    "import operator\n",
    "import string\n",
    "import seaborn as sns\n",
    "import fasttext"
   ]
  },
  {
   "cell_type": "code",
   "execution_count": 2,
   "metadata": {},
   "outputs": [],
   "source": [
    "Store = pd.read_csv('./csv/new_Label_Store_id.csv')"
   ]
  },
  {
   "cell_type": "code",
   "execution_count": 3,
   "metadata": {},
   "outputs": [],
   "source": [
    "locality = pd.read_csv('./csv/locality new.csv')"
   ]
  },
  {
   "cell_type": "code",
   "execution_count": 4,
   "metadata": {},
   "outputs": [],
   "source": [
    "retailer = pd.read_csv('./csv/true_retailer_id.csv')"
   ]
  },
  {
   "cell_type": "code",
   "execution_count": 5,
   "metadata": {},
   "outputs": [
    {
     "data": {
      "text/html": [
       "<div>\n",
       "<style scoped>\n",
       "    .dataframe tbody tr th:only-of-type {\n",
       "        vertical-align: middle;\n",
       "    }\n",
       "\n",
       "    .dataframe tbody tr th {\n",
       "        vertical-align: top;\n",
       "    }\n",
       "\n",
       "    .dataframe thead th {\n",
       "        text-align: right;\n",
       "    }\n",
       "</style>\n",
       "<table border=\"1\" class=\"dataframe\">\n",
       "  <thead>\n",
       "    <tr style=\"text-align: right;\">\n",
       "      <th></th>\n",
       "      <th>label</th>\n",
       "      <th>store_id</th>\n",
       "      <th>count</th>\n",
       "    </tr>\n",
       "  </thead>\n",
       "  <tbody>\n",
       "    <tr>\n",
       "      <th>0</th>\n",
       "      <td>CARTE X3896 03/04 ABSOLU CAFE</td>\n",
       "      <td>b9e0021d-c007-44cc-b16c-7a46c5ec9f67</td>\n",
       "      <td>158</td>\n",
       "    </tr>\n",
       "    <tr>\n",
       "      <th>1</th>\n",
       "      <td>1403/SOLEREST 92 LEVALLOIS PERR</td>\n",
       "      <td>569bf309-e767-4055-9760-5453a5dee4d2</td>\n",
       "      <td>1025</td>\n",
       "    </tr>\n",
       "    <tr>\n",
       "      <th>2</th>\n",
       "      <td>FACTURE CARTE DU 180217 LISA LEVALLOIS PER CAR...</td>\n",
       "      <td>e8d64d2e-01fb-4347-87f5-88aecd66acdf</td>\n",
       "      <td>23</td>\n",
       "    </tr>\n",
       "    <tr>\n",
       "      <th>3</th>\n",
       "      <td>CHEZ VALERIE ST GILLES CROIX</td>\n",
       "      <td>b2e259ce-8368-4d05-b506-b4cbf23c8139</td>\n",
       "      <td>1</td>\n",
       "    </tr>\n",
       "    <tr>\n",
       "      <th>4</th>\n",
       "      <td>CB ABSOLU CAFE 17/09/17</td>\n",
       "      <td>b9e0021d-c007-44cc-b16c-7a46c5ec9f67</td>\n",
       "      <td>158</td>\n",
       "    </tr>\n",
       "  </tbody>\n",
       "</table>\n",
       "</div>"
      ],
      "text/plain": [
       "                                               label  \\\n",
       "0                      CARTE X3896 03/04 ABSOLU CAFE   \n",
       "1                    1403/SOLEREST 92 LEVALLOIS PERR   \n",
       "2  FACTURE CARTE DU 180217 LISA LEVALLOIS PER CAR...   \n",
       "3                       CHEZ VALERIE ST GILLES CROIX   \n",
       "4                            CB ABSOLU CAFE 17/09/17   \n",
       "\n",
       "                               store_id  count  \n",
       "0  b9e0021d-c007-44cc-b16c-7a46c5ec9f67    158  \n",
       "1  569bf309-e767-4055-9760-5453a5dee4d2   1025  \n",
       "2  e8d64d2e-01fb-4347-87f5-88aecd66acdf     23  \n",
       "3  b2e259ce-8368-4d05-b506-b4cbf23c8139      1  \n",
       "4  b9e0021d-c007-44cc-b16c-7a46c5ec9f67    158  "
      ]
     },
     "execution_count": 5,
     "metadata": {},
     "output_type": "execute_result"
    }
   ],
   "source": [
    "Store.head()"
   ]
  },
  {
   "cell_type": "code",
   "execution_count": 6,
   "metadata": {},
   "outputs": [
    {
     "data": {
      "text/html": [
       "<div>\n",
       "<style scoped>\n",
       "    .dataframe tbody tr th:only-of-type {\n",
       "        vertical-align: middle;\n",
       "    }\n",
       "\n",
       "    .dataframe tbody tr th {\n",
       "        vertical-align: top;\n",
       "    }\n",
       "\n",
       "    .dataframe thead th {\n",
       "        text-align: right;\n",
       "    }\n",
       "</style>\n",
       "<table border=\"1\" class=\"dataframe\">\n",
       "  <thead>\n",
       "    <tr style=\"text-align: right;\">\n",
       "      <th></th>\n",
       "      <th>label</th>\n",
       "      <th>store_id</th>\n",
       "      <th>customer_id</th>\n",
       "      <th>bank_id</th>\n",
       "      <th>locality</th>\n",
       "      <th>Count</th>\n",
       "    </tr>\n",
       "  </thead>\n",
       "  <tbody>\n",
       "    <tr>\n",
       "      <th>0</th>\n",
       "      <td>FACTURE CARTE DU 040317 MAISON JANNEAU LES PON...</td>\n",
       "      <td>0004a4b1-9012-4e37-84d9-7961e879339c</td>\n",
       "      <td>2c2f7496-daef-476a-abef-4b5629a9f33b</td>\n",
       "      <td>d0a19b64-f13e-471d-88bf-0c7c87695cbc</td>\n",
       "      <td>les ponts-de-cé</td>\n",
       "      <td>5</td>\n",
       "    </tr>\n",
       "    <tr>\n",
       "      <th>1</th>\n",
       "      <td>FACTURE CARTE DU 120617 MAISON JANNEAU LES PON...</td>\n",
       "      <td>0004a4b1-9012-4e37-84d9-7961e879339c</td>\n",
       "      <td>2c2f7496-daef-476a-abef-4b5629a9f33b</td>\n",
       "      <td>d0a19b64-f13e-471d-88bf-0c7c87695cbc</td>\n",
       "      <td>les ponts-de-cé</td>\n",
       "      <td>5</td>\n",
       "    </tr>\n",
       "    <tr>\n",
       "      <th>2</th>\n",
       "      <td>UJA LA DEFENSEPUTEAUX LE 07 01 17</td>\n",
       "      <td>0006da1c-df0e-4d54-b4cd-6b2aad54c892</td>\n",
       "      <td>98e5c403-a2cd-48c0-8d90-0c74b11ad198</td>\n",
       "      <td>e505b092-269d-4691-8710-5bd25c8c1078</td>\n",
       "      <td>puteaux</td>\n",
       "      <td>5169</td>\n",
       "    </tr>\n",
       "    <tr>\n",
       "      <th>3</th>\n",
       "      <td>UJA LA DEFENSEPUTEAUX LE 22 04 17</td>\n",
       "      <td>0006da1c-df0e-4d54-b4cd-6b2aad54c892</td>\n",
       "      <td>98e5c403-a2cd-48c0-8d90-0c74b11ad198</td>\n",
       "      <td>e505b092-269d-4691-8710-5bd25c8c1078</td>\n",
       "      <td>puteaux</td>\n",
       "      <td>5169</td>\n",
       "    </tr>\n",
       "    <tr>\n",
       "      <th>4</th>\n",
       "      <td>JOUFFROY AUTO - PARIS</td>\n",
       "      <td>00087340-273a-4ba9-a16e-9a5250a7b0e0</td>\n",
       "      <td>871a3219-38ed-43cf-b96a-cd87c1ef1fd7</td>\n",
       "      <td>d972ace6-9ecb-4d2b-b0b1-d1131979d90a</td>\n",
       "      <td>paris</td>\n",
       "      <td>81044</td>\n",
       "    </tr>\n",
       "  </tbody>\n",
       "</table>\n",
       "</div>"
      ],
      "text/plain": [
       "                                               label  \\\n",
       "0  FACTURE CARTE DU 040317 MAISON JANNEAU LES PON...   \n",
       "1  FACTURE CARTE DU 120617 MAISON JANNEAU LES PON...   \n",
       "2                  UJA LA DEFENSEPUTEAUX LE 07 01 17   \n",
       "3                  UJA LA DEFENSEPUTEAUX LE 22 04 17   \n",
       "4                              JOUFFROY AUTO - PARIS   \n",
       "\n",
       "                               store_id                           customer_id  \\\n",
       "0  0004a4b1-9012-4e37-84d9-7961e879339c  2c2f7496-daef-476a-abef-4b5629a9f33b   \n",
       "1  0004a4b1-9012-4e37-84d9-7961e879339c  2c2f7496-daef-476a-abef-4b5629a9f33b   \n",
       "2  0006da1c-df0e-4d54-b4cd-6b2aad54c892  98e5c403-a2cd-48c0-8d90-0c74b11ad198   \n",
       "3  0006da1c-df0e-4d54-b4cd-6b2aad54c892  98e5c403-a2cd-48c0-8d90-0c74b11ad198   \n",
       "4  00087340-273a-4ba9-a16e-9a5250a7b0e0  871a3219-38ed-43cf-b96a-cd87c1ef1fd7   \n",
       "\n",
       "                                bank_id         locality  Count  \n",
       "0  d0a19b64-f13e-471d-88bf-0c7c87695cbc  les ponts-de-cé      5  \n",
       "1  d0a19b64-f13e-471d-88bf-0c7c87695cbc  les ponts-de-cé      5  \n",
       "2  e505b092-269d-4691-8710-5bd25c8c1078          puteaux   5169  \n",
       "3  e505b092-269d-4691-8710-5bd25c8c1078          puteaux   5169  \n",
       "4  d972ace6-9ecb-4d2b-b0b1-d1131979d90a            paris  81044  "
      ]
     },
     "execution_count": 6,
     "metadata": {},
     "output_type": "execute_result"
    }
   ],
   "source": [
    "locality.head()"
   ]
  },
  {
   "cell_type": "code",
   "execution_count": 7,
   "metadata": {},
   "outputs": [
    {
     "data": {
      "text/html": [
       "<div>\n",
       "<style scoped>\n",
       "    .dataframe tbody tr th:only-of-type {\n",
       "        vertical-align: middle;\n",
       "    }\n",
       "\n",
       "    .dataframe tbody tr th {\n",
       "        vertical-align: top;\n",
       "    }\n",
       "\n",
       "    .dataframe thead th {\n",
       "        text-align: right;\n",
       "    }\n",
       "</style>\n",
       "<table border=\"1\" class=\"dataframe\">\n",
       "  <thead>\n",
       "    <tr style=\"text-align: right;\">\n",
       "      <th></th>\n",
       "      <th>id</th>\n",
       "      <th>transaction_date</th>\n",
       "      <th>amount</th>\n",
       "      <th>currency</th>\n",
       "      <th>label</th>\n",
       "      <th>type</th>\n",
       "      <th>customer_id</th>\n",
       "      <th>store_id</th>\n",
       "      <th>service_id</th>\n",
       "      <th>effective_date</th>\n",
       "      <th>retailer_id</th>\n",
       "      <th>true_retailer_id</th>\n",
       "      <th>Count</th>\n",
       "    </tr>\n",
       "  </thead>\n",
       "  <tbody>\n",
       "    <tr>\n",
       "      <th>0</th>\n",
       "      <td>00eebaa4-af5d-40bb-ab26-6ae02aa35974</td>\n",
       "      <td>2017-12-07</td>\n",
       "      <td>-20.00</td>\n",
       "      <td>EUR</td>\n",
       "      <td>CB RETRAIT DU 07/12 LCL PARIS BROCHA</td>\n",
       "      <td>unknown</td>\n",
       "      <td>48e07ff8-f90c-46e2-b074-ad4a78254016</td>\n",
       "      <td>NaN</td>\n",
       "      <td>NaN</td>\n",
       "      <td>2017-12-08</td>\n",
       "      <td>5a718e55-cbb4-4063-94b3-339fef25bdcd</td>\n",
       "      <td>5a718e55-cbb4-4063-94b3-339fef25bdcd</td>\n",
       "      <td>2940</td>\n",
       "    </tr>\n",
       "    <tr>\n",
       "      <th>1</th>\n",
       "      <td>0128bead-9db9-4952-b4f1-22658338a2a4</td>\n",
       "      <td>2017-11-20</td>\n",
       "      <td>-60.00</td>\n",
       "      <td>EUR</td>\n",
       "      <td>CB RETRAIT DU 20/11 LCL LEVALLOIS PA</td>\n",
       "      <td>unknown</td>\n",
       "      <td>e5f2cacd-00f9-4fe3-b236-eacb1b233f13</td>\n",
       "      <td>NaN</td>\n",
       "      <td>NaN</td>\n",
       "      <td>2017-11-20</td>\n",
       "      <td>5a718e55-cbb4-4063-94b3-339fef25bdcd</td>\n",
       "      <td>5a718e55-cbb4-4063-94b3-339fef25bdcd</td>\n",
       "      <td>2940</td>\n",
       "    </tr>\n",
       "    <tr>\n",
       "      <th>2</th>\n",
       "      <td>015a3664-b69e-4eca-9789-7f3c44248373</td>\n",
       "      <td>2016-05-30</td>\n",
       "      <td>-40.00</td>\n",
       "      <td>EUR</td>\n",
       "      <td>Retrait automate RETRAIT DAB 270516 LCL LEVALL...</td>\n",
       "      <td>unknown</td>\n",
       "      <td>402f62ff-703b-48ff-b25a-caf0aa19778c</td>\n",
       "      <td>NaN</td>\n",
       "      <td>NaN</td>\n",
       "      <td>2016-05-30</td>\n",
       "      <td>5a718e55-cbb4-4063-94b3-339fef25bdcd</td>\n",
       "      <td>5a718e55-cbb4-4063-94b3-339fef25bdcd</td>\n",
       "      <td>2940</td>\n",
       "    </tr>\n",
       "    <tr>\n",
       "      <th>3</th>\n",
       "      <td>017f7b91-a1b8-45f6-8474-f43021433f62</td>\n",
       "      <td>2018-02-01</td>\n",
       "      <td>-1.48</td>\n",
       "      <td>EUR</td>\n",
       "      <td>ABONNEMENT LCL BANQUE EN LIGNE</td>\n",
       "      <td>unknown</td>\n",
       "      <td>4a2b6f14-f328-4d67-b1f1-7b19ea865fd4</td>\n",
       "      <td>NaN</td>\n",
       "      <td>NaN</td>\n",
       "      <td>2018-02-01</td>\n",
       "      <td>5a718e55-cbb4-4063-94b3-339fef25bdcd</td>\n",
       "      <td>5a718e55-cbb4-4063-94b3-339fef25bdcd</td>\n",
       "      <td>2940</td>\n",
       "    </tr>\n",
       "    <tr>\n",
       "      <th>4</th>\n",
       "      <td>034058b7-61e9-4069-b05f-2b566847c9e8</td>\n",
       "      <td>2016-11-07</td>\n",
       "      <td>-40.00</td>\n",
       "      <td>EUR</td>\n",
       "      <td>Retrait automate RETRAIT DAB 051116 LCL PARIS ...</td>\n",
       "      <td>unknown</td>\n",
       "      <td>10efd567-175a-4d99-9191-69f8fef3a4a1</td>\n",
       "      <td>NaN</td>\n",
       "      <td>NaN</td>\n",
       "      <td>2016-11-07</td>\n",
       "      <td>5a718e55-cbb4-4063-94b3-339fef25bdcd</td>\n",
       "      <td>5a718e55-cbb4-4063-94b3-339fef25bdcd</td>\n",
       "      <td>2940</td>\n",
       "    </tr>\n",
       "  </tbody>\n",
       "</table>\n",
       "</div>"
      ],
      "text/plain": [
       "                                     id transaction_date  amount currency  \\\n",
       "0  00eebaa4-af5d-40bb-ab26-6ae02aa35974       2017-12-07  -20.00      EUR   \n",
       "1  0128bead-9db9-4952-b4f1-22658338a2a4       2017-11-20  -60.00      EUR   \n",
       "2  015a3664-b69e-4eca-9789-7f3c44248373       2016-05-30  -40.00      EUR   \n",
       "3  017f7b91-a1b8-45f6-8474-f43021433f62       2018-02-01   -1.48      EUR   \n",
       "4  034058b7-61e9-4069-b05f-2b566847c9e8       2016-11-07  -40.00      EUR   \n",
       "\n",
       "                                               label     type  \\\n",
       "0               CB RETRAIT DU 07/12 LCL PARIS BROCHA  unknown   \n",
       "1               CB RETRAIT DU 20/11 LCL LEVALLOIS PA  unknown   \n",
       "2  Retrait automate RETRAIT DAB 270516 LCL LEVALL...  unknown   \n",
       "3                     ABONNEMENT LCL BANQUE EN LIGNE  unknown   \n",
       "4  Retrait automate RETRAIT DAB 051116 LCL PARIS ...  unknown   \n",
       "\n",
       "                            customer_id store_id  service_id effective_date  \\\n",
       "0  48e07ff8-f90c-46e2-b074-ad4a78254016      NaN         NaN     2017-12-08   \n",
       "1  e5f2cacd-00f9-4fe3-b236-eacb1b233f13      NaN         NaN     2017-11-20   \n",
       "2  402f62ff-703b-48ff-b25a-caf0aa19778c      NaN         NaN     2016-05-30   \n",
       "3  4a2b6f14-f328-4d67-b1f1-7b19ea865fd4      NaN         NaN     2018-02-01   \n",
       "4  10efd567-175a-4d99-9191-69f8fef3a4a1      NaN         NaN     2016-11-07   \n",
       "\n",
       "                            retailer_id                      true_retailer_id  \\\n",
       "0  5a718e55-cbb4-4063-94b3-339fef25bdcd  5a718e55-cbb4-4063-94b3-339fef25bdcd   \n",
       "1  5a718e55-cbb4-4063-94b3-339fef25bdcd  5a718e55-cbb4-4063-94b3-339fef25bdcd   \n",
       "2  5a718e55-cbb4-4063-94b3-339fef25bdcd  5a718e55-cbb4-4063-94b3-339fef25bdcd   \n",
       "3  5a718e55-cbb4-4063-94b3-339fef25bdcd  5a718e55-cbb4-4063-94b3-339fef25bdcd   \n",
       "4  5a718e55-cbb4-4063-94b3-339fef25bdcd  5a718e55-cbb4-4063-94b3-339fef25bdcd   \n",
       "\n",
       "   Count  \n",
       "0   2940  \n",
       "1   2940  \n",
       "2   2940  \n",
       "3   2940  \n",
       "4   2940  "
      ]
     },
     "execution_count": 7,
     "metadata": {},
     "output_type": "execute_result"
    }
   ],
   "source": [
    "retailer.head()"
   ]
  },
  {
   "cell_type": "code",
   "execution_count": 4,
   "metadata": {},
   "outputs": [
    {
     "data": {
      "text/plain": [
       "Text(0.5,0,'Количество строк')"
      ]
     },
     "execution_count": 4,
     "metadata": {},
     "output_type": "execute_result"
    },
    {
     "data": {
      "image/png": "[encoded data removed]",
      "text/plain": [
       "<Figure size 432x288 with 1 Axes>"
      ]
     },
     "metadata": {},
     "output_type": "display_data"
    }
   ],
   "source": [
    "word_len = Store.label.str.len()\n",
    "\n",
    "word_len.hist()\n",
    "plt.title('Длины текстов, в символах')\n",
    "plt.ylabel('Количество символов')\n",
    "plt.xlabel('Количество строк')"
   ]
  },
  {
   "cell_type": "code",
   "execution_count": 9,
   "metadata": {
    "collapsed": true
   },
   "outputs": [],
   "source": [
    "words = []\n",
    "for i in range(len(Store)):\n",
    "    for j in Store.label.iloc[i].split():\n",
    "        words.append(j)"
   ]
  },
  {
   "cell_type": "code",
   "execution_count": 15,
   "metadata": {},
   "outputs": [],
   "source": [
    "freq = nltk.FreqDist(words)"
   ]
  },
  {
   "cell_type": "code",
   "execution_count": 22,
   "metadata": {},
   "outputs": [
    {
     "data": {
      "text/plain": [
       "[('CARTE', 214614),\n",
       " ('CB', 81834),\n",
       " ('DU', 71110),\n",
       " ('FACTURE', 63523),\n",
       " ('PAIEMENT', 42777),\n",
       " ('LEVALLOIS', 38745),\n",
       " ('PARIS', 35211),\n",
       " ('Carte', 33634),\n",
       " ('Par', 26537),\n",
       " ('Paiement', 26530)]"
      ]
     },
     "execution_count": 22,
     "metadata": {},
     "output_type": "execute_result"
    }
   ],
   "source": [
    "sorted(freq.items(), key = operator.itemgetter(1), reverse=True)[:10]"
   ]
  },
  {
   "cell_type": "code",
   "execution_count": 23,
   "metadata": {},
   "outputs": [
    {
     "data": {
      "image/png": "[encoded data removed]",
      "text/plain": [
       "<Figure size 432x288 with 1 Axes>"
      ]
     },
     "metadata": {},
     "output_type": "display_data"
    }
   ],
   "source": [
    "freq = list(freq.values())\n",
    "freq = sorted(freq, reverse = True)\n",
    "plt.plot(freq[:300], range(300))\n",
    "plt.title('Закон Ципфа')\n",
    "plt.ylabel('Ранг слова')\n",
    "plt.xlabel('Частота слова')\n",
    "plt.show()"
   ]
  },
  {
   "cell_type": "code",
   "execution_count": 24,
   "metadata": {},
   "outputs": [
    {
     "data": {
      "text/plain": [
       "Text(0.5,0,'Количество строк')"
      ]
     },
     "execution_count": 24,
     "metadata": {},
     "output_type": "execute_result"
    },
    {
     "data": {
      "image/png": "[encoded data removed]",
      "text/plain": [
       "<Figure size 432x288 with 1 Axes>"
      ]
     },
     "metadata": {},
     "output_type": "display_data"
    }
   ],
   "source": [
    "df_ = pd.value_counts(Store.store_id)\n",
    "\n",
    "df_.hist()\n",
    "plt.title('Распределение строк/классов: магазины')\n",
    "plt.ylabel('Количество классов')\n",
    "plt.xlabel('Количество строк')"
   ]
  },
  {
   "cell_type": "code",
   "execution_count": 25,
   "metadata": {},
   "outputs": [
    {
     "data": {
      "text/plain": [
       "Text(0.5,0,'Количество строк >=10')"
      ]
     },
     "execution_count": 25,
     "metadata": {},
     "output_type": "execute_result"
    },
    {
     "data": {
      "image/png": "[encoded data removed]",
      "text/plain": [
       "<Figure size 432x288 with 1 Axes>"
      ]
     },
     "metadata": {},
     "output_type": "display_data"
    }
   ],
   "source": [
    "df_1 = df_[df_ >=10]\n",
    "\n",
    "df_1.hist()\n",
    "plt.title('Распределение строк/классов: магазины')\n",
    "plt.ylabel('Количество классов')\n",
    "plt.xlabel('Количество строк >=10')"
   ]
  },
  {
   "cell_type": "code",
   "execution_count": 32,
   "metadata": {},
   "outputs": [
    {
     "data": {
      "text/plain": [
       "Text(0.5,0,'Количество строк')"
      ]
     },
     "execution_count": 32,
     "metadata": {},
     "output_type": "execute_result"
    },
    {
     "data": {
      "image/png": "[encoded data removed]",
      "text/plain": [
       "<Figure size 432x288 with 1 Axes>"
      ]
     },
     "metadata": {},
     "output_type": "display_data"
    }
   ],
   "source": [
    "df_ = pd.value_counts(locality.locality)\n",
    "\n",
    "df_.hist()\n",
    "plt.title('Распределение строк/классов: город')\n",
    "plt.ylabel('Количество классов')\n",
    "plt.xlabel('Количество строк')"
   ]
  },
  {
   "cell_type": "code",
   "execution_count": 33,
   "metadata": {},
   "outputs": [
    {
     "data": {
      "text/plain": [
       "Text(0.5,0,'Количество строк >=10')"
      ]
     },
     "execution_count": 33,
     "metadata": {},
     "output_type": "execute_result"
    },
    {
     "data": {
      "image/png": "[encoded data removed]",
      "text/plain": [
       "<Figure size 432x288 with 1 Axes>"
      ]
     },
     "metadata": {},
     "output_type": "display_data"
    }
   ],
   "source": [
    "df_1 = df_[df_ >=10]\n",
    "\n",
    "df_1.hist()\n",
    "plt.title('Распределение строк/классов: город')\n",
    "plt.ylabel('Количество классов')\n",
    "plt.xlabel('Количество строк >=10')"
   ]
  },
  {
   "cell_type": "code",
   "execution_count": 36,
   "metadata": {},
   "outputs": [
    {
     "data": {
      "text/plain": [
       "Text(0.5,0,'Количество строк')"
      ]
     },
     "execution_count": 36,
     "metadata": {},
     "output_type": "execute_result"
    },
    {
     "data": {
      "image/png": "[encoded data removed]",
      "text/plain": [
       "<Figure size 432x288 with 1 Axes>"
      ]
     },
     "metadata": {},
     "output_type": "display_data"
    }
   ],
   "source": [
    "df1 = pd.value_counts(retailer.true_retailer_id)\n",
    "\n",
    "df1.hist()\n",
    "plt.title('Распределение строк/классов: ритейлер')\n",
    "plt.ylabel('Количество классов')\n",
    "plt.xlabel('Количество строк')"
   ]
  },
  {
   "cell_type": "code",
   "execution_count": 37,
   "metadata": {
    "scrolled": true
   },
   "outputs": [
    {
     "data": {
      "text/plain": [
       "Text(0.5,0,'Количество строк >=10')"
      ]
     },
     "execution_count": 37,
     "metadata": {},
     "output_type": "execute_result"
    },
    {
     "data": {
      "image/png": "[encoded data removed]",
      "text/plain": [
       "<Figure size 432x288 with 1 Axes>"
      ]
     },
     "metadata": {},
     "output_type": "display_data"
    }
   ],
   "source": [
    "df3 = df1[df1 >=10]\n",
    "\n",
    "df3.hist()\n",
    "plt.title('Распределение строк/классов: ритейлер')\n",
    "plt.ylabel('Количество классов')\n",
    "plt.xlabel('Количество строк >=10')"
   ]
  },
  {
   "cell_type": "code",
   "execution_count": 8,
   "metadata": {},
   "outputs": [
    {
     "data": {
      "text/plain": [
       "10"
      ]
     },
     "execution_count": 8,
     "metadata": {},
     "output_type": "execute_result"
    }
   ],
   "source": [
    "df2 = retailer[(retailer['Count'] >= 1100)&(retailer['Count'] <= 2000)]\n",
    "len(df2.true_retailer_id.unique())"
   ]
  },
  {
   "cell_type": "code",
   "execution_count": 9,
   "metadata": {},
   "outputs": [
    {
     "name": "stderr",
     "output_type": "stream",
     "text": [
      "/home/asus/anaconda3/lib/python3.6/site-packages/ipykernel_launcher.py:2: SettingWithCopyWarning: \n",
      "A value is trying to be set on a copy of a slice from a DataFrame.\n",
      "Try using .loc[row_indexer,col_indexer] = value instead\n",
      "\n",
      "See the caveats in the documentation: http://pandas.pydata.org/pandas-docs/stable/indexing.html#indexing-view-versus-copy\n",
      "  \n"
     ]
    }
   ],
   "source": [
    "le = LabelEncoder()\n",
    "df2['true_retailer_id'] = le.fit_transform(df2.true_retailer_id)"
   ]
  },
  {
   "cell_type": "code",
   "execution_count": 69,
   "metadata": {
    "collapsed": true
   },
   "outputs": [],
   "source": [
    "vectCV = CountVectorizer(lowercase = False, ngram_range=(1, 3), min_df=5) \n",
    "\n",
    "fit_corpCV = vectCV.fit_transform(df2.label)"
   ]
  },
  {
   "cell_type": "code",
   "execution_count": 73,
   "metadata": {
    "collapsed": true
   },
   "outputs": [],
   "source": [
    "train, test, y_train, y_test = train_test_split(fit_corpCV, df2.true_retailer_id, test_size = 0.2, random_state = 42)"
   ]
  },
  {
   "cell_type": "code",
   "execution_count": 74,
   "metadata": {},
   "outputs": [],
   "source": [
    "lr = LogisticRegression()\n",
    "lr.fit(train, y_train)\n",
    "y_pred = lr.predict(test)"
   ]
  },
  {
   "cell_type": "code",
   "execution_count": 95,
   "metadata": {},
   "outputs": [
    {
     "data": {
      "image/png": "[encoded data removed]",
      "text/plain": [
       "<IPython.core.display.Image object>"
      ]
     },
     "execution_count": 95,
     "metadata": {},
     "output_type": "execute_result"
    }
   ],
   "source": [
    "labels = sorted(y_test.unique())\n",
    "\n",
    "sns.heatmap(data= metrics.confusion_matrix(y_test, y_pred), annot=True, fmt=\"d\", cbar=False,\n",
    "            xticklabels=labels, yticklabels=labels)\n",
    "plt.title(\"Confusion matrix\")\n",
    "plt.show()"
   ]
  },
  {
   "cell_type": "code",
   "execution_count": 96,
   "metadata": {},
   "outputs": [
    {
     "data": {
      "image/png": "[encoded data removed]",
      "text/plain": [
       "<IPython.core.display.Image object>"
      ]
     },
     "execution_count": 96,
     "metadata": {},
     "output_type": "execute_result"
    }
   ],
   "source": [
    "df3 = df2[(df2['true_retailer_id'] == 0)|(df2['true_retailer_id'] == 1)]\n",
    "\n",
    "vectCV = CountVectorizer(lowercase = False, ngram_range=(1, 3), min_df=5)\n",
    "\n",
    "fit_corpCV = vectCV.fit_transform(df3.label)\n",
    "\n",
    "train, test, y_train, y_test = train_test_split(fit_corpCV, df3.true_retailer_id, test_size = 0.2, random_state = 42)\n",
    "\n",
    "lr = LogisticRegression()\n",
    "lr.fit(train, y_train)\n",
    "y_pred = lr.predict(test)\n",
    "\n",
    "labels = sorted(y_test.unique())\n",
    "\n",
    "sns.heatmap(data= metrics.confusion_matrix(y_test, y_pred), annot=True, fmt=\"d\", cbar=False, xticklabels=labels, yticklabels=labels)\n",
    "plt.title(\"Confusion matrix\")\n",
    "plt.show()"
   ]
  },
  {
   "cell_type": "code",
   "execution_count": 97,
   "metadata": {},
   "outputs": [
    {
     "data": {
      "image/png": "[encoded data removed]",
      "text/plain": [
       "<IPython.core.display.Image object>"
      ]
     },
     "execution_count": 97,
     "metadata": {},
     "output_type": "execute_result"
    }
   ],
   "source": [
    "df3 = df2[(df2['true_retailer_id'] == 2)|(df2['true_retailer_id'] == 3)]\n",
    "\n",
    "vectCV = CountVectorizer(lowercase = False, ngram_range=(1, 3), min_df=5)\n",
    "\n",
    "fit_corpCV = vectCV.fit_transform(df3.label)\n",
    "\n",
    "train, test, y_train, y_test = train_test_split(fit_corpCV, df3.true_retailer_id, test_size = 0.2, random_state = 42)\n",
    "\n",
    "lr = LogisticRegression()\n",
    "lr.fit(train, y_train)\n",
    "y_pred = lr.predict(test)\n",
    "\n",
    "labels = sorted(y_test.unique())\n",
    "\n",
    "sns.heatmap(data= metrics.confusion_matrix(y_test, y_pred), annot=True, fmt=\"d\", cbar=False, xticklabels=labels, yticklabels=labels)\n",
    "plt.title(\"Confusion matrix\")\n",
    "plt.show()"
   ]
  },
  {
   "cell_type": "code",
   "execution_count": 98,
   "metadata": {},
   "outputs": [
    {
     "data": {
      "image/png": "[encoded data removed]",
      "text/plain": [
       "<IPython.core.display.Image object>"
      ]
     },
     "execution_count": 98,
     "metadata": {},
     "output_type": "execute_result"
    }
   ],
   "source": [
    "df3 = df2[(df2['true_retailer_id'] == 4)|(df2['true_retailer_id'] == 5)]\n",
    "\n",
    "vectCV = CountVectorizer(lowercase = False, ngram_range=(1, 3), min_df=5)\n",
    "\n",
    "fit_corpCV = vectCV.fit_transform(df3.label)\n",
    "\n",
    "train, test, y_train, y_test = train_test_split(fit_corpCV, df3.true_retailer_id, test_size = 0.2, random_state = 42)\n",
    "\n",
    "lr = LogisticRegression()\n",
    "lr.fit(train, y_train)\n",
    "y_pred = lr.predict(test)\n",
    "\n",
    "labels = sorted(y_test.unique())\n",
    "\n",
    "sns.heatmap(data= metrics.confusion_matrix(y_test, y_pred), annot=True, fmt=\"d\", cbar=False, xticklabels=labels, yticklabels=labels)\n",
    "plt.title(\"Confusion matrix\")\n",
    "plt.show()"
   ]
  },
  {
   "cell_type": "code",
   "execution_count": 99,
   "metadata": {},
   "outputs": [
    {
     "data": {
      "image/png": "[encoded data removed]",
      "text/plain": [
       "<IPython.core.display.Image object>"
      ]
     },
     "execution_count": 99,
     "metadata": {},
     "output_type": "execute_result"
    }
   ],
   "source": [
    "df3 = df2[(df2['true_retailer_id'] == 6)|(df2['true_retailer_id'] == 7)]\n",
    "\n",
    "vectCV = CountVectorizer(lowercase = False, ngram_range=(1, 3), min_df=5)\n",
    "\n",
    "fit_corpCV = vectCV.fit_transform(df3.label)\n",
    "\n",
    "train, test, y_train, y_test = train_test_split(fit_corpCV, df3.true_retailer_id, test_size = 0.2, random_state = 42)\n",
    "\n",
    "lr = LogisticRegression()\n",
    "lr.fit(train, y_train)\n",
    "y_pred = lr.predict(test)\n",
    "\n",
    "labels = sorted(y_test.unique())\n",
    "\n",
    "sns.heatmap(data= metrics.confusion_matrix(y_test, y_pred), annot=True, fmt=\"d\", cbar=False, xticklabels=labels, yticklabels=labels)\n",
    "plt.title(\"Confusion matrix\")\n",
    "plt.show()"
   ]
  },
  {
   "cell_type": "code",
   "execution_count": 100,
   "metadata": {},
   "outputs": [
    {
     "data": {
      "image/png": "[encoded data removed]",
      "text/plain": [
       "<IPython.core.display.Image object>"
      ]
     },
     "execution_count": 100,
     "metadata": {},
     "output_type": "execute_result"
    }
   ],
   "source": [
    "df3 = df2[(df2['true_retailer_id'] == 7)|(df2['true_retailer_id'] == 8)]\n",
    "\n",
    "vectCV = CountVectorizer(lowercase = False, ngram_range=(1, 3), min_df=5)\n",
    "\n",
    "fit_corpCV = vectCV.fit_transform(df3.label)\n",
    "\n",
    "train, test, y_train, y_test = train_test_split(fit_corpCV, df3.true_retailer_id, test_size = 0.2, random_state = 42)\n",
    "\n",
    "lr = LogisticRegression()\n",
    "lr.fit(train, y_train)\n",
    "y_pred = lr.predict(test)\n",
    "\n",
    "labels = sorted(y_test.unique())\n",
    "\n",
    "sns.heatmap(data= metrics.confusion_matrix(y_test, y_pred), annot=True, fmt=\"d\", cbar=False, xticklabels=labels, yticklabels=labels)\n",
    "plt.title(\"Confusion matrix\")\n",
    "plt.show()"
   ]
  },
  {
   "cell_type": "code",
   "execution_count": 101,
   "metadata": {
    "scrolled": true
   },
   "outputs": [
    {
     "data": {
      "image/png": "[encoded data removed]",
      "text/plain": [
       "<IPython.core.display.Image object>"
      ]
     },
     "execution_count": 101,
     "metadata": {},
     "output_type": "execute_result"
    }
   ],
   "source": [
    "df3 = df2[(df2['true_retailer_id'] == 8)|(df2['true_retailer_id'] == 9)]\n",
    "\n",
    "vectCV = CountVectorizer(lowercase = False, ngram_range=(1, 3), min_df=5)\n",
    "\n",
    "fit_corpCV = vectCV.fit_transform(df3.label)\n",
    "\n",
    "train, test, y_train, y_test = train_test_split(fit_corpCV, df3.true_retailer_id, test_size = 0.2, random_state = 42)\n",
    "\n",
    "lr = LogisticRegression()\n",
    "lr.fit(train, y_train)\n",
    "y_pred = lr.predict(test)\n",
    "\n",
    "labels = sorted(y_test.unique())\n",
    "\n",
    "sns.heatmap(data= metrics.confusion_matrix(y_test, y_pred), annot=True, fmt=\"d\", cbar=False, xticklabels=labels, yticklabels=labels)\n",
    "plt.title(\"Confusion matrix\")\n",
    "plt.show()"
   ]
  },
  {
   "cell_type": "code",
   "execution_count": 10,
   "metadata": {},
   "outputs": [],
   "source": [
    "class MeanEmbeddingVectorizer(object):\n",
    "    def __init__(self, word2vec):\n",
    "        self.word2vec = word2vec\n",
    "        # if a text is empty we should return a vector of zeros\n",
    "        # with the same dimensionality as all the other vectors\n",
    "        self.dim = len(w2v.popitem()[1])\n",
    "\n",
    "    def fit(self, X, y):\n",
    "        return self\n",
    "\n",
    "    def transform(self, X):\n",
    "        return np.array([\n",
    "            np.mean([self.word2vec[w] for w in words if w in self.word2vec]\n",
    "                    or [np.zeros(self.dim)], axis=0)\n",
    "            for words in X\n",
    "        ])"
   ]
  },
  {
   "cell_type": "markdown",
   "metadata": {},
   "source": [
    "## Locality"
   ]
  },
  {
   "cell_type": "code",
   "execution_count": 11,
   "metadata": {},
   "outputs": [],
   "source": [
    "locality= locality[locality['Count'] >= 10]"
   ]
  },
  {
   "cell_type": "markdown",
   "metadata": {},
   "source": [
    "Logistic regression + CountVectorize"
   ]
  },
  {
   "cell_type": "code",
   "execution_count": 24,
   "metadata": {},
   "outputs": [
    {
     "name": "stdout",
     "output_type": "stream",
     "text": [
      "Precision: 0.8433\n",
      "Recall: 0.8399\n",
      "F1-measure: 0.8381\n",
      "Accuracy: 0.8399\n"
     ]
    }
   ],
   "source": [
    "vectCV = CountVectorizer(lowercase = False, ngram_range=(1, 3), min_df=5) \n",
    "\n",
    "fit_corpCV = vectCV.fit_transform(locality.label)\n",
    "\n",
    "train, test, y_train, y_test = train_test_split(fit_corpCV, locality.locality, test_size = 0.25, random_state = 42)\n",
    "\n",
    "lr = LogisticRegression(solver= 'lbfgs', multi_class= 'multinomial')\n",
    "lr.fit(train, y_train)\n",
    "\n",
    "y_pred = lr.predict(test)\n",
    "\n",
    "print(\"Precision: {0:6.4f}\".format(metrics.precision_score(y_test, y_pred, average='weighted')))\n",
    "print(\"Recall: {0:6.4f}\".format(metrics.recall_score(y_test, y_pred, average='weighted')))\n",
    "print(\"F1-measure: {0:6.4f}\".format(metrics.f1_score(y_test, y_pred, average='weighted')))\n",
    "print(\"Accuracy: {0:6.4f}\".format(metrics.accuracy_score(y_test, y_pred)))"
   ]
  },
  {
   "cell_type": "markdown",
   "metadata": {},
   "source": [
    "Logistic regression + TF-IDF"
   ]
  },
  {
   "cell_type": "code",
   "execution_count": 25,
   "metadata": {},
   "outputs": [
    {
     "name": "stdout",
     "output_type": "stream",
     "text": [
      "Precision: 0.8324\n",
      "Recall: 0.8275\n",
      "F1-measure: 0.8206\n",
      "Accuracy: 0.8275\n"
     ]
    }
   ],
   "source": [
    "vectTF = TfidfVectorizer(lowercase = False, ngram_range=(1, 3), min_df=5)\n",
    "fit_corpTF = vectTF.fit_transform(locality.label)\n",
    "train, test, y_train, y_test = train_test_split(fit_corpTF, locality.locality, test_size = 0.25, random_state = 42)\n",
    "lr = LogisticRegression(solver= 'lbfgs', multi_class= 'multinomial')\n",
    "lr.fit(train, y_train)\n",
    "y_pred = lr.predict(test)\n",
    "print(\"Precision: {0:6.4f}\".format(metrics.precision_score(y_test, y_pred, average='weighted')))\n",
    "print(\"Recall: {0:6.4f}\".format(metrics.recall_score(y_test, y_pred, average='weighted')))\n",
    "print(\"F1-measure: {0:6.4f}\".format(metrics.f1_score(y_test, y_pred, average='weighted')))\n",
    "print(\"Accuracy: {0:6.4f}\".format(metrics.accuracy_score(y_test, y_pred)))"
   ]
  },
  {
   "cell_type": "markdown",
   "metadata": {},
   "source": [
    "LR CV (текст приведен к нижнему регистру)"
   ]
  },
  {
   "cell_type": "code",
   "execution_count": 26,
   "metadata": {},
   "outputs": [
    {
     "name": "stdout",
     "output_type": "stream",
     "text": [
      "Precision: 0.4663\n",
      "Recall: 0.4542\n",
      "F1-measure: 0.4655\n",
      "Accuracy: 0.4542\n"
     ]
    }
   ],
   "source": [
    "vectCV = CountVectorizer(lowercase = True, ngram_range=(1, 3), min_df=5) \n",
    "fit_corpCV = vectCV.fit_transform(locality.label)\n",
    "train, test, y_train, y_test = train_test_split(fit_corpCV, locality.locality, test_size = 0.25, random_state = 42)\n",
    "lr = LogisticRegression(solver= 'lbfgs', multi_class= 'multinomial')\n",
    "lr.fit(train, y_train)\n",
    "y_pred = lr.predict(test)\n",
    "print(\"Precision: {0:6.4f}\".format(metrics.precision_score(y_test, y_pred, average='weighted')))\n",
    "print(\"Recall: {0:6.4f}\".format(metrics.recall_score(y_test, y_pred, average='weighted')))\n",
    "print(\"F1-measure: {0:6.4f}\".format(metrics.f1_score(y_test, y_pred, average='weighted')))\n",
    "print(\"Accuracy: {0:6.4f}\".format(metrics.accuracy_score(y_test, y_pred)))"
   ]
  },
  {
   "cell_type": "markdown",
   "metadata": {},
   "source": [
    "Logistic regression + TF-IDF (текст приведен к нижнему регистру)"
   ]
  },
  {
   "cell_type": "code",
   "execution_count": 27,
   "metadata": {},
   "outputs": [
    {
     "name": "stdout",
     "output_type": "stream",
     "text": [
      "Precision: 0.4572\n",
      "Recall: 0.4540\n",
      "F1-measure: 0.4548\n",
      "Accuracy: 0.4540\n"
     ]
    }
   ],
   "source": [
    "vectTF = TfidfVectorizer(lowercase = True, ngram_range=(1, 3), min_df=5)\n",
    "fit_corpTF = vectTF.fit_transform(locality.label)\n",
    "train, test, y_train, y_test = train_test_split(fit_corpTF, locality.locality, test_size = 0.25, random_state = 42)\n",
    "lr = LogisticRegression(solver= 'lbfgs', multi_class= 'multinomial')\n",
    "lr.fit(train, y_train)\n",
    "y_pred = lr.predict(test)\n",
    "print(\"Precision: {0:6.4f}\".format(metrics.precision_score(y_test, y_pred, average='weighted')))\n",
    "print(\"Recall: {0:6.4f}\".format(metrics.recall_score(y_test, y_pred, average='weighted')))\n",
    "print(\"F1-measure: {0:6.4f}\".format(metrics.f1_score(y_test, y_pred, average='weighted')))\n",
    "print(\"Accuracy: {0:6.4f}\".format(metrics.accuracy_score(y_test, y_pred)))"
   ]
  },
  {
   "cell_type": "code",
   "execution_count": 14,
   "metadata": {},
   "outputs": [],
   "source": [
    "#удаление знаков пунктуации\n",
    "strip = string.whitespace + string.punctuation  + \"\\\"'\"\n",
    "\n",
    "def words_only(text):\n",
    "    q1 = ''\n",
    "    for d1 in text.split():\n",
    "        q1 = q1 +' '+ d1.strip(strip)\n",
    "    return q1\n"
   ]
  },
  {
   "cell_type": "code",
   "execution_count": 29,
   "metadata": {},
   "outputs": [],
   "source": [
    "df2 = locality.copy()\n",
    "df2['label'] = locality.label.apply(words_only)\n",
    "df2 = df2.drop_duplicates()"
   ]
  },
  {
   "cell_type": "markdown",
   "metadata": {},
   "source": [
    "Logistic regression + CountVectorize удалены знаки пунктуации"
   ]
  },
  {
   "cell_type": "code",
   "execution_count": 30,
   "metadata": {},
   "outputs": [
    {
     "name": "stdout",
     "output_type": "stream",
     "text": [
      "Precision: 0.8662\n",
      "Recall: 0.8654\n",
      "F1-measure: 0.8656\n",
      "Accuracy: 0.8654\n"
     ]
    }
   ],
   "source": [
    "vectCV = CountVectorizer(lowercase = False, ngram_range=(1, 3), min_df=5) \n",
    "\n",
    "fit_corpCV = vectCV.fit_transform(df2.label)\n",
    "train, test, y_train, y_test = train_test_split(fit_corpCV, df2.locality, test_size = 0.25, random_state = 42)\n",
    "lr = LogisticRegression(solver= 'lbfgs', multi_class= 'multinomial')\n",
    "lr.fit(train, y_train)\n",
    "y_pred = lr.predict(test)\n",
    "print(\"Precision: {0:6.4f}\".format(metrics.precision_score(y_test, y_pred, average='weighted')))\n",
    "print(\"Recall: {0:6.4f}\".format(metrics.recall_score(y_test, y_pred, average='weighted')))\n",
    "print(\"F1-measure: {0:6.4f}\".format(metrics.f1_score(y_test, y_pred, average='weighted')))\n",
    "print(\"Accuracy: {0:6.4f}\".format(metrics.accuracy_score(y_test, y_pred)))"
   ]
  },
  {
   "cell_type": "markdown",
   "metadata": {},
   "source": [
    "Logistic regression + TF-IDF удалены знаки пунктуации"
   ]
  },
  {
   "cell_type": "code",
   "execution_count": 31,
   "metadata": {},
   "outputs": [
    {
     "name": "stdout",
     "output_type": "stream",
     "text": [
      "Precision: 0.8568\n",
      "Recall: 0.8551\n",
      "F1-measure: 0.8455\n",
      "Accuracy: 0.8551\n"
     ]
    }
   ],
   "source": [
    "vectTF = TfidfVectorizer(lowercase = False, ngram_range=(1, 3), min_df=5)\n",
    "fit_corpTF = vectTF.fit_transform(df2.label)\n",
    "train, test, y_train, y_test = train_test_split(fit_corpTF, df2.locality, test_size = 0.25, random_state = 42)\n",
    "lr = LogisticRegression(solver= 'lbfgs', multi_class= 'multinomial')\n",
    "lr.fit(train, y_train)\n",
    "y_pred = lr.predict(test)\n",
    "print(\"Precision: {0:6.4f}\".format(metrics.precision_score(y_test, y_pred, average='weighted')))\n",
    "print(\"Recall: {0:6.4f}\".format(metrics.recall_score(y_test, y_pred, average='weighted')))\n",
    "print(\"F1-measure: {0:6.4f}\".format(metrics.f1_score(y_test, y_pred, average='weighted')))\n",
    "print(\"Accuracy: {0:6.4f}\".format(metrics.accuracy_score(y_test, y_pred)))"
   ]
  },
  {
   "cell_type": "markdown",
   "metadata": {},
   "source": [
    "Word2Vec+Random Forest"
   ]
  },
  {
   "cell_type": "code",
   "execution_count": 32,
   "metadata": {},
   "outputs": [
    {
     "data": {
      "text/plain": [
       "['UJA', 'LA', 'DEFENSEPUTEAUX', 'LE', '07', '01', '17']"
      ]
     },
     "execution_count": 32,
     "metadata": {},
     "output_type": "execute_result"
    }
   ],
   "source": [
    "texts = [locality.label.iloc[i].split() for i in range(len(locality))]\n",
    "texts[0]"
   ]
  },
  {
   "cell_type": "code",
   "execution_count": 33,
   "metadata": {},
   "outputs": [
    {
     "name": "stdout",
     "output_type": "stream",
     "text": [
      "Precision: 0.9100\n",
      "Recall: 0.9032\n",
      "F1-measure: 0.9042\n",
      "Accuracy: 0.9032\n"
     ]
    }
   ],
   "source": [
    "model = models.Word2Vec(texts, size= 300, window= 1, min_count= 2, sg= 0)\n",
    "model.init_sims(replace = True)\n",
    "w2v = dict(zip(model.wv.index2word, model.wv.syn0))\n",
    "\n",
    "rfc_w2v = Pipeline([\n",
    "    (\"word2vec vectorizer\", MeanEmbeddingVectorizer(w2v)),\n",
    "    (\"extra trees\", RandomForestClassifier(n_estimators=20))])\n",
    "\n",
    "X_train, X_test, y_train, y_test = train_test_split(locality.label, locality.locality, test_size=0.25)\n",
    "\n",
    "rfc_w2v.fit(X_train, y_train)\n",
    "pred = rfc_w2v.predict(X_test)\n",
    "\n",
    "print(\"Precision: {0:6.4f}\".format(metrics.precision_score(y_test, pred, average='weighted')))\n",
    "print(\"Recall: {0:6.4f}\".format(metrics.recall_score(y_test, pred, average='weighted')))\n",
    "print(\"F1-measure: {0:6.4f}\".format(metrics.f1_score(y_test, pred, average='weighted')))\n",
    "print(\"Accuracy: {0:6.4f}\".format(metrics.accuracy_score(y_test, pred)))"
   ]
  },
  {
   "cell_type": "markdown",
   "metadata": {},
   "source": [
    "Word2Vec+Random Forest (удалены знаки пунктуации)"
   ]
  },
  {
   "cell_type": "code",
   "execution_count": 34,
   "metadata": {},
   "outputs": [
    {
     "name": "stdout",
     "output_type": "stream",
     "text": [
      "Precision: 0.9233\n",
      "Recall: 0.9199\n",
      "F1-measure: 0.9183\n",
      "Accuracy: 0.9199\n"
     ]
    }
   ],
   "source": [
    "texts = [df2.label.iloc[i].split() for i in range(len(df2))]\n",
    "model = models.Word2Vec(texts, size= 300, window= 1, min_count= 2, sg= 0)\n",
    "model.init_sims(replace = True)\n",
    "w2v = dict(zip(model.wv.index2word, model.wv.syn0))\n",
    "\n",
    "rfc_w2v = Pipeline([\n",
    "    (\"word2vec vectorizer\", MeanEmbeddingVectorizer(w2v)),\n",
    "    (\"extra trees\", RandomForestClassifier(n_estimators=20))])\n",
    "\n",
    "X_train, X_test, y_train, y_test = train_test_split(df2.label, df2.locality, test_size=0.25)\n",
    "\n",
    "rfc_w2v.fit(X_train, y_train)\n",
    "pred = rfc_w2v.predict(X_test)\n",
    "\n",
    "print(\"Precision: {0:6.4f}\".format(metrics.precision_score(y_test, pred, average='weighted')))\n",
    "print(\"Recall: {0:6.4f}\".format(metrics.recall_score(y_test, pred, average='weighted')))\n",
    "print(\"F1-measure: {0:6.4f}\".format(metrics.f1_score(y_test, pred, average='weighted')))\n",
    "print(\"Accuracy: {0:6.4f}\".format(metrics.accuracy_score(y_test, pred)))"
   ]
  },
  {
   "cell_type": "markdown",
   "metadata": {},
   "source": [
    "FastText"
   ]
  },
  {
   "cell_type": "code",
   "execution_count": 35,
   "metadata": {},
   "outputs": [],
   "source": [
    "train, test = train_test_split(locality, test_size = 0.25, random_state = 42)"
   ]
  },
  {
   "cell_type": "code",
   "execution_count": 36,
   "metadata": {},
   "outputs": [],
   "source": [
    "with open('./models/data1.train.txt', 'w+') as outfile:\n",
    "    for index, row in train.iterrows():\n",
    "        outfile.write('__label__' + str(row['locality']) + ' '+ row['label'] + '\\n')"
   ]
  },
  {
   "cell_type": "code",
   "execution_count": 37,
   "metadata": {},
   "outputs": [],
   "source": [
    "with open('./models/test.txt', 'w+') as outfile:\n",
    "    for index, row in test.iterrows():\n",
    "        outfile.write('__label__' + str(row['locality']) + ' '+ row['label'] + '\\n')"
   ]
  },
  {
   "cell_type": "code",
   "execution_count": 38,
   "metadata": {},
   "outputs": [
    {
     "name": "stdout",
     "output_type": "stream",
     "text": [
      "Precision: 0.9367\n",
      "Recall: 0.9345\n",
      "F1-measure: 0.9350\n",
      "Accuracy: 0.9345\n"
     ]
    }
   ],
   "source": [
    "classifier = fasttext.supervised('./models/data1.train.txt', 'model')\n",
    "result = classifier.test('./models/test.txt')\n",
    "pred1 = classifier.predict(test.label)\n",
    "pred = np.array(pred1)\n",
    "y_test = test.locality\n",
    "print(\"Precision: {0:6.4f}\".format(metrics.precision_score(y_test, pred, average='weighted')))\n",
    "print(\"Recall: {0:6.4f}\".format(metrics.recall_score(y_test, pred, average='weighted')))\n",
    "print(\"F1-measure: {0:6.4f}\".format(metrics.f1_score(y_test, pred, average='weighted')))\n",
    "print(\"Accuracy: {0:6.4f}\".format(metrics.accuracy_score(y_test, pred)))"
   ]
  },
  {
   "cell_type": "markdown",
   "metadata": {},
   "source": [
    "FastText (удалены знаки пунктуации)"
   ]
  },
  {
   "cell_type": "code",
   "execution_count": 39,
   "metadata": {},
   "outputs": [
    {
     "name": "stdout",
     "output_type": "stream",
     "text": [
      "Precision: 0.9561\n",
      "Recall: 0.9542\n",
      "F1-measure: 0.9548\n",
      "Accuracy: 0.9542\n"
     ]
    }
   ],
   "source": [
    "train, test = train_test_split(df2, test_size = 0.25, random_state = 42)\n",
    "\n",
    "with open('./models/data1.train.txt', 'w+') as outfile:\n",
    "    for index, row in train.iterrows():\n",
    "        outfile.write('__label__' + str(row['locality']) + ' '+ row['label'] + '\\n')\n",
    "\n",
    "with open('./models/test.txt', 'w+') as outfile:\n",
    "    for index, row in test.iterrows():\n",
    "        outfile.write('__label__' + str(row['locality']) + ' '+ row['label'] + '\\n')\n",
    "\n",
    "classifier = fasttext.supervised('./models/data1.train.txt', 'model')\n",
    "result = classifier.test('./models/test.txt')\n",
    "pred1 = classifier.predict(test.label)\n",
    "pred = np.array(pred1)\n",
    "y_test = test.locality\n",
    "print(\"Precision: {0:6.4f}\".format(metrics.precision_score(y_test, pred, average='weighted')))\n",
    "print(\"Recall: {0:6.4f}\".format(metrics.recall_score(y_test, pred, average='weighted')))\n",
    "print(\"F1-measure: {0:6.4f}\".format(metrics.f1_score(y_test, pred, average='weighted')))\n",
    "print(\"Accuracy: {0:6.4f}\".format(metrics.accuracy_score(y_test, pred)))"
   ]
  },
  {
   "cell_type": "markdown",
   "metadata": {},
   "source": [
    "## Retailer"
   ]
  },
  {
   "cell_type": "code",
   "execution_count": 40,
   "metadata": {},
   "outputs": [],
   "source": [
    "retailer = retailer[retailer['Count'] >= 10]"
   ]
  },
  {
   "cell_type": "markdown",
   "metadata": {},
   "source": [
    "Logistic regression + CountVectorize"
   ]
  },
  {
   "cell_type": "code",
   "execution_count": 41,
   "metadata": {},
   "outputs": [
    {
     "name": "stdout",
     "output_type": "stream",
     "text": [
      "Precision: 0.8965\n",
      "Recall: 0.8961\n",
      "F1-measure: 0.8836\n",
      "Accuracy: 0.8961\n"
     ]
    }
   ],
   "source": [
    "vectCV = CountVectorizer(lowercase = False, ngram_range=(1, 3), min_df=5) \n",
    "\n",
    "fit_corpCV = vectCV.fit_transform(retailer.label)\n",
    "\n",
    "train, test, y_train, y_test = train_test_split(fit_corpCV, retailer.true_retailer_id, test_size = 0.25, random_state = 42)\n",
    "\n",
    "lr = LogisticRegression(solver= 'lbfgs', multi_class= 'multinomial')\n",
    "lr.fit(train, y_train)\n",
    "y_pred = lr.predict(test)\n",
    "\n",
    "print(\"Precision: {0:6.4f}\".format(metrics.precision_score(y_test, y_pred, average='weighted')))\n",
    "print(\"Recall: {0:6.4f}\".format(metrics.recall_score(y_test, y_pred, average='weighted')))\n",
    "print(\"F1-measure: {0:6.4f}\".format(metrics.f1_score(y_test, y_pred, average='weighted')))\n",
    "print(\"Accuracy: {0:6.4f}\".format(metrics.accuracy_score(y_test, y_pred)))"
   ]
  },
  {
   "cell_type": "markdown",
   "metadata": {},
   "source": [
    "Logistic regression + TF-IDF"
   ]
  },
  {
   "cell_type": "code",
   "execution_count": 42,
   "metadata": {},
   "outputs": [
    {
     "name": "stdout",
     "output_type": "stream",
     "text": [
      "Precision: 0.8826\n",
      "Recall: 0.8812\n",
      "F1-measure: 0.8741\n",
      "Accuracy: 0.8812\n"
     ]
    }
   ],
   "source": [
    "vectTF = TfidfVectorizer(lowercase = False, ngram_range=(1, 3), min_df=5)\n",
    "fit_corpTF = vectTF.fit_transform(retailer.label)\n",
    "train, test, y_train, y_test = train_test_split(fit_corpTF, retailer.true_retailer_id, test_size = 0.25, random_state = 42)\n",
    "lr = LogisticRegression(solver= 'lbfgs', multi_class= 'multinomial')\n",
    "lr.fit(train, y_train)\n",
    "y_pred = lr.predict(test)\n",
    "print(\"Precision: {0:6.4f}\".format(metrics.precision_score(y_test, y_pred, average='weighted')))\n",
    "print(\"Recall: {0:6.4f}\".format(metrics.recall_score(y_test, y_pred, average='weighted')))\n",
    "print(\"F1-measure: {0:6.4f}\".format(metrics.f1_score(y_test, y_pred, average='weighted')))\n",
    "print(\"Accuracy: {0:6.4f}\".format(metrics.accuracy_score(y_test, y_pred)))"
   ]
  },
  {
   "cell_type": "code",
   "execution_count": 43,
   "metadata": {},
   "outputs": [],
   "source": [
    "df2 = retailer.copy()\n",
    "df2['label'] = retailer.label.apply(words_only)\n",
    "df2 = df2.drop_duplicates()"
   ]
  },
  {
   "cell_type": "markdown",
   "metadata": {},
   "source": [
    "Logistic regression + CountVectorize удалены знаки пунктуации"
   ]
  },
  {
   "cell_type": "code",
   "execution_count": 44,
   "metadata": {},
   "outputs": [
    {
     "name": "stdout",
     "output_type": "stream",
     "text": [
      "Precision: 0.9011\n",
      "Recall: 0.8936\n",
      "F1-measure: 0.9037\n",
      "Accuracy: 0.8936\n"
     ]
    }
   ],
   "source": [
    "vectCV = CountVectorizer(lowercase = False, ngram_range=(1, 3), min_df=5) \n",
    "\n",
    "fit_corpCV = vectCV.fit_transform(df2.label)\n",
    "train, test, y_train, y_test = train_test_split(fit_corpCV, df2.true_retailer_id, test_size = 0.25, random_state = 42)\n",
    "lr = LogisticRegression(solver= 'lbfgs', multi_class= 'multinomial')\n",
    "lr.fit(train, y_train)\n",
    "y_pred = lr.predict(test)\n",
    "print(\"Precision: {0:6.4f}\".format(metrics.precision_score(y_test, y_pred, average='weighted')))\n",
    "print(\"Recall: {0:6.4f}\".format(metrics.recall_score(y_test, y_pred, average='weighted')))\n",
    "print(\"F1-measure: {0:6.4f}\".format(metrics.f1_score(y_test, y_pred, average='weighted')))\n",
    "print(\"Accuracy: {0:6.4f}\".format(metrics.accuracy_score(y_test, y_pred)))"
   ]
  },
  {
   "cell_type": "markdown",
   "metadata": {},
   "source": [
    "Word2Vec+Random Forest"
   ]
  },
  {
   "cell_type": "code",
   "execution_count": 45,
   "metadata": {},
   "outputs": [
    {
     "data": {
      "text/plain": [
       "['CB', 'RETRAIT', 'DU', '07/12', 'LCL', 'PARIS', 'BROCHA']"
      ]
     },
     "execution_count": 45,
     "metadata": {},
     "output_type": "execute_result"
    }
   ],
   "source": [
    "texts = [retailer.label.iloc[i].split() for i in range(len(retailer))]\n",
    "texts[0]"
   ]
  },
  {
   "cell_type": "code",
   "execution_count": 46,
   "metadata": {},
   "outputs": [
    {
     "name": "stdout",
     "output_type": "stream",
     "text": [
      "Precision: 0.9304\n",
      "Recall: 0.9330\n",
      "F1-measure: 0.9325\n",
      "Accuracy: 0.9330\n"
     ]
    }
   ],
   "source": [
    "model = models.Word2Vec(texts, size= 300, window= 1, min_count= 2, sg= 0)\n",
    "model.init_sims(replace = True)\n",
    "w2v = dict(zip(model.wv.index2word, model.wv.syn0))\n",
    "\n",
    "rfc_w2v = Pipeline([\n",
    "    (\"word2vec vectorizer\", MeanEmbeddingVectorizer(w2v)),\n",
    "    (\"extra trees\", RandomForestClassifier(n_estimators=20))])\n",
    "\n",
    "X_train, X_test, y_train, y_test = train_test_split(retailer.label, retailer.true_retailer_id, test_size=0.25)\n",
    "\n",
    "rfc_w2v.fit(X_train, y_train)\n",
    "pred = rfc_w2v.predict(X_test)\n",
    "\n",
    "print(\"Precision: {0:6.4f}\".format(metrics.precision_score(y_test, pred, average='weighted')))\n",
    "print(\"Recall: {0:6.4f}\".format(metrics.recall_score(y_test, pred, average='weighted')))\n",
    "print(\"F1-measure: {0:6.4f}\".format(metrics.f1_score(y_test, pred, average='weighted')))\n",
    "print(\"Accuracy: {0:6.4f}\".format(metrics.accuracy_score(y_test, pred)))"
   ]
  },
  {
   "cell_type": "markdown",
   "metadata": {},
   "source": [
    "Word2Vec+Random Forest (удалены знаки пунктуации)"
   ]
  },
  {
   "cell_type": "code",
   "execution_count": 47,
   "metadata": {},
   "outputs": [
    {
     "name": "stdout",
     "output_type": "stream",
     "text": [
      "Precision: 0.9427\n",
      "Recall: 0.9417\n",
      "F1-measure: 0.9387\n",
      "Accuracy: 0.9417\n"
     ]
    }
   ],
   "source": [
    "texts = [df2.label.iloc[i].split() for i in range(len(df2))]\n",
    "model = models.Word2Vec(texts, size= 300, window= 1, min_count= 2, sg= 0)\n",
    "model.init_sims(replace = True)\n",
    "w2v = dict(zip(model.wv.index2word, model.wv.syn0))\n",
    "\n",
    "rfc_w2v = Pipeline([\n",
    "    (\"word2vec vectorizer\", MeanEmbeddingVectorizer(w2v)),\n",
    "    (\"extra trees\", RandomForestClassifier())])\n",
    "\n",
    "X_train, X_test, y_train, y_test = train_test_split(df2.label, df2.true_retailer_id, test_size=0.25)\n",
    "\n",
    "rfc_w2v.fit(X_train, y_train)\n",
    "pred = rfc_w2v.predict(X_test)\n",
    "\n",
    "print(\"Precision: {0:6.4f}\".format(metrics.precision_score(y_test, pred, average='weighted')))\n",
    "print(\"Recall: {0:6.4f}\".format(metrics.recall_score(y_test, pred, average='weighted')))\n",
    "print(\"F1-measure: {0:6.4f}\".format(metrics.f1_score(y_test, pred, average='weighted')))\n",
    "print(\"Accuracy: {0:6.4f}\".format(metrics.accuracy_score(y_test, pred)))"
   ]
  },
  {
   "cell_type": "markdown",
   "metadata": {},
   "source": [
    "FastText"
   ]
  },
  {
   "cell_type": "code",
   "execution_count": 48,
   "metadata": {},
   "outputs": [
    {
     "name": "stdout",
     "output_type": "stream",
     "text": [
      "Precision: 0.9571\n",
      "Recall: 0.9452\n",
      "F1-measure: 0.9515\n",
      "Accuracy: 0.9452\n"
     ]
    }
   ],
   "source": [
    "train, test = train_test_split(retailer, test_size = 0.25, random_state = 42)\n",
    "\n",
    "with open('./models/data1.train.txt', 'w+') as outfile:\n",
    "    for index, row in train.iterrows():\n",
    "        outfile.write('__label__' + str(row['true_retailer_id']) + ' '+ row['label'] + '\\n')\n",
    "\n",
    "with open('./models/test.txt', 'w+') as outfile:\n",
    "    for index, row in test.iterrows():\n",
    "        outfile.write('__label__' + str(row['true_retailer_id']) + ' '+ row['label'] + '\\n')\n",
    "\n",
    "classifier = fasttext.supervised('./models/data1.train.txt', 'model')\n",
    "result = classifier.test('./models/test.txt')\n",
    "pred1 = classifier.predict(test.label)\n",
    "pred = np.array(pred1)\n",
    "y_test = test.true_retailer_id\n",
    "print(\"Precision: {0:6.4f}\".format(metrics.precision_score(y_test, pred, average='weighted')))\n",
    "print(\"Recall: {0:6.4f}\".format(metrics.recall_score(y_test, pred, average='weighted')))\n",
    "print(\"F1-measure: {0:6.4f}\".format(metrics.f1_score(y_test, pred, average='weighted')))\n",
    "print(\"Accuracy: {0:6.4f}\".format(metrics.accuracy_score(y_test, pred)))"
   ]
  },
  {
   "cell_type": "markdown",
   "metadata": {},
   "source": [
    "FastText (удалены знаки пунктуации)"
   ]
  },
  {
   "cell_type": "code",
   "execution_count": 49,
   "metadata": {},
   "outputs": [
    {
     "name": "stdout",
     "output_type": "stream",
     "text": [
      "Precision: 0.9613\n",
      "Recall: 0.9538\n",
      "F1-measure: 0.9607\n",
      "Accuracy: 0.9538\n"
     ]
    }
   ],
   "source": [
    "train, test = train_test_split(df2, test_size = 0.25, random_state = 42)\n",
    "\n",
    "with open('./models/data1.train.txt', 'w+') as outfile:\n",
    "    for index, row in train.iterrows():\n",
    "        outfile.write('__label__' + str(row['true_retailer_id']) + ' '+ row['label'] + '\\n')\n",
    "\n",
    "with open('./models/test.txt', 'w+') as outfile:\n",
    "    for index, row in test.iterrows():\n",
    "        outfile.write('__label__' + str(row['true_retailer_id']) + ' '+ row['label'] + '\\n')\n",
    "\n",
    "classifier = fasttext.supervised('./models/data1.train.txt', 'model')\n",
    "result = classifier.test('./models/test.txt')\n",
    "pred1 = classifier.predict(test.label)\n",
    "pred = np.array(pred1)\n",
    "y_test = test.true_retailer_id\n",
    "print(\"Precision: {0:6.4f}\".format(metrics.precision_score(y_test, pred, average='weighted')))\n",
    "print(\"Recall: {0:6.4f}\".format(metrics.recall_score(y_test, pred, average='weighted')))\n",
    "print(\"F1-measure: {0:6.4f}\".format(metrics.f1_score(y_test, pred, average='weighted')))\n",
    "print(\"Accuracy: {0:6.4f}\".format(metrics.accuracy_score(y_test, pred)))"
   ]
  },
  {
   "cell_type": "markdown",
   "metadata": {},
   "source": [
    "## Store"
   ]
  },
  {
   "cell_type": "code",
   "execution_count": 51,
   "metadata": {
    "scrolled": true
   },
   "outputs": [],
   "source": [
    "Store = Store[Store['count'] >= 10]"
   ]
  },
  {
   "cell_type": "markdown",
   "metadata": {},
   "source": [
    "Logistic regression + CountVectorize"
   ]
  },
  {
   "cell_type": "code",
   "execution_count": 52,
   "metadata": {},
   "outputs": [
    {
     "name": "stdout",
     "output_type": "stream",
     "text": [
      "Precision: 0.8213\n",
      "Recall: 0.8195\n",
      "F1-measure: 0.8174\n",
      "Accuracy: 0.8195\n"
     ]
    }
   ],
   "source": [
    "vectCV = CountVectorizer(lowercase = False, ngram_range=(1, 3), min_df=5) \n",
    "\n",
    "fit_corpCV = vectCV.fit_transform(Store.label)\n",
    "\n",
    "train, test, y_train, y_test = train_test_split(fit_corpCV, Store.store_id, test_size = 0.25, random_state = 42)\n",
    "\n",
    "lr = LogisticRegression(solver= 'lbfgs', multi_class= 'multinomial')\n",
    "lr.fit(train, y_train)\n",
    "y_pred = lr.predict(test)\n",
    "\n",
    "print(\"Precision: {0:6.4f}\".format(metrics.precision_score(y_test, y_pred, average='weighted')))\n",
    "print(\"Recall: {0:6.4f}\".format(metrics.recall_score(y_test, y_pred, average='weighted')))\n",
    "print(\"F1-measure: {0:6.4f}\".format(metrics.f1_score(y_test, y_pred, average='weighted')))\n",
    "print(\"Accuracy: {0:6.4f}\".format(metrics.accuracy_score(y_test, y_pred)))"
   ]
  },
  {
   "cell_type": "markdown",
   "metadata": {},
   "source": [
    "Logistic regression + TF-IDF"
   ]
  },
  {
   "cell_type": "code",
   "execution_count": 53,
   "metadata": {},
   "outputs": [
    {
     "name": "stdout",
     "output_type": "stream",
     "text": [
      "Precision: 0.8172\n",
      "Recall: 0.8054\n",
      "F1-measure: 0.8126\n",
      "Accuracy: 0.8054\n"
     ]
    }
   ],
   "source": [
    "vectTF = TfidfVectorizer(lowercase = False, ngram_range=(1, 3), min_df=5)\n",
    "fit_corpTF = vectTF.fit_transform(Store.label)\n",
    "train, test, y_train, y_test = train_test_split(fit_corpTF, Store.store_id, test_size = 0.25, random_state = 42)\n",
    "lr = LogisticRegression(solver= 'lbfgs', multi_class= 'multinomial')\n",
    "lr.fit(train, y_train)\n",
    "y_pred = lr.predict(test)\n",
    "print(\"Precision: {0:6.4f}\".format(metrics.precision_score(y_test, y_pred, average='weighted')))\n",
    "print(\"Recall: {0:6.4f}\".format(metrics.recall_score(y_test, y_pred, average='weighted')))\n",
    "print(\"F1-measure: {0:6.4f}\".format(metrics.f1_score(y_test, y_pred, average='weighted')))\n",
    "print(\"Accuracy: {0:6.4f}\".format(metrics.accuracy_score(y_test, y_pred)))"
   ]
  },
  {
   "cell_type": "code",
   "execution_count": 54,
   "metadata": {},
   "outputs": [],
   "source": [
    "df2 = Store.copy()\n",
    "df2['label'] = Store.label.apply(words_only)\n",
    "df2 = df2.drop_duplicates()"
   ]
  },
  {
   "cell_type": "markdown",
   "metadata": {},
   "source": [
    "Logistic regression + CountVectorize удалены знаки пунктуации"
   ]
  },
  {
   "cell_type": "code",
   "execution_count": 55,
   "metadata": {},
   "outputs": [
    {
     "name": "stdout",
     "output_type": "stream",
     "text": [
      "Precision: 0.8320\n",
      "Recall: 0.8211\n",
      "F1-measure: 0.8272\n",
      "Accuracy: 0.8211\n"
     ]
    }
   ],
   "source": [
    "vectCV = CountVectorizer(lowercase = False, ngram_range=(1, 3), min_df=5) \n",
    "\n",
    "fit_corpCV = vectCV.fit_transform(df2.label)\n",
    "train, test, y_train, y_test = train_test_split(fit_corpCV, df2.store_id, test_size = 0.25, random_state = 42)\n",
    "lr = LogisticRegression(solver= 'lbfgs', multi_class= 'multinomial')\n",
    "lr.fit(train, y_train)\n",
    "y_pred = lr.predict(test)\n",
    "print(\"Precision: {0:6.4f}\".format(metrics.precision_score(y_test, y_pred, average='weighted')))\n",
    "print(\"Recall: {0:6.4f}\".format(metrics.recall_score(y_test, y_pred, average='weighted')))\n",
    "print(\"F1-measure: {0:6.4f}\".format(metrics.f1_score(y_test, y_pred, average='weighted')))\n",
    "print(\"Accuracy: {0:6.4f}\".format(metrics.accuracy_score(y_test, y_pred)))"
   ]
  },
  {
   "cell_type": "markdown",
   "metadata": {},
   "source": [
    "Word2Vec+Random Forest"
   ]
  },
  {
   "cell_type": "code",
   "execution_count": 56,
   "metadata": {},
   "outputs": [
    {
     "data": {
      "text/plain": [
       "['CARTE', 'X3896', '03/04', 'ABSOLU', 'CAFE']"
      ]
     },
     "execution_count": 56,
     "metadata": {},
     "output_type": "execute_result"
    }
   ],
   "source": [
    "texts = [Store.label.iloc[i].split() for i in range(len(Store))]\n",
    "texts[0]"
   ]
  },
  {
   "cell_type": "code",
   "execution_count": 57,
   "metadata": {},
   "outputs": [
    {
     "name": "stdout",
     "output_type": "stream",
     "text": [
      "Precision: 0.8845\n",
      "Recall: 0.8734\n",
      "F1-measure: 0.8727\n",
      "Accuracy: 0.8734\n"
     ]
    }
   ],
   "source": [
    "model = models.Word2Vec(texts, size= 300, window= 1, min_count= 2, sg= 0)\n",
    "model.init_sims(replace = True)\n",
    "w2v = dict(zip(model.wv.index2word, model.wv.syn0))\n",
    "\n",
    "rfc_w2v = Pipeline([\n",
    "    (\"word2vec vectorizer\", MeanEmbeddingVectorizer(w2v)),\n",
    "    (\"extra trees\", RandomForestClassifier(n_estimators=20))])\n",
    "\n",
    "X_train, X_test, y_train, y_test = train_test_split(Store.label, Store.store_id, test_size=0.25)\n",
    "\n",
    "rfc_w2v.fit(X_train, y_train)\n",
    "pred = rfc_w2v.predict(X_test)\n",
    "\n",
    "print(\"Precision: {0:6.4f}\".format(metrics.precision_score(y_test, pred, average='weighted')))\n",
    "print(\"Recall: {0:6.4f}\".format(metrics.recall_score(y_test, pred, average='weighted')))\n",
    "print(\"F1-measure: {0:6.4f}\".format(metrics.f1_score(y_test, pred, average='weighted')))\n",
    "print(\"Accuracy: {0:6.4f}\".format(metrics.accuracy_score(y_test, pred)))"
   ]
  },
  {
   "cell_type": "markdown",
   "metadata": {},
   "source": [
    "Word2Vec+Random Forest (удалены знаки пунктуации)"
   ]
  },
  {
   "cell_type": "code",
   "execution_count": 58,
   "metadata": {},
   "outputs": [
    {
     "name": "stdout",
     "output_type": "stream",
     "text": [
      "Precision: 0.8962\n",
      "Recall: 0.8840\n",
      "F1-measure: 0.8873\n",
      "Accuracy: 0.8840\n"
     ]
    }
   ],
   "source": [
    "texts = [df2.label.iloc[i].split() for i in range(len(df2))]\n",
    "model = models.Word2Vec(texts, size= 300, window= 1, min_count= 2, sg= 0)\n",
    "model.init_sims(replace = True)\n",
    "w2v = dict(zip(model.wv.index2word, model.wv.syn0))\n",
    "\n",
    "rfc_w2v = Pipeline([\n",
    "    (\"word2vec vectorizer\", MeanEmbeddingVectorizer(w2v)),\n",
    "    (\"extra trees\", RandomForestClassifier(n_estimators=20))])\n",
    "\n",
    "X_train, X_test, y_train, y_test = train_test_split(df2.label, df2.store_id, test_size=0.25)\n",
    "\n",
    "rfc_w2v.fit(X_train, y_train)\n",
    "pred = rfc_w2v.predict(X_test)\n",
    "\n",
    "print(\"Precision: {0:6.4f}\".format(metrics.precision_score(y_test, pred, average='weighted')))\n",
    "print(\"Recall: {0:6.4f}\".format(metrics.recall_score(y_test, pred, average='weighted')))\n",
    "print(\"F1-measure: {0:6.4f}\".format(metrics.f1_score(y_test, pred, average='weighted')))\n",
    "print(\"Accuracy: {0:6.4f}\".format(metrics.accuracy_score(y_test, pred)))"
   ]
  },
  {
   "cell_type": "markdown",
   "metadata": {},
   "source": [
    "FastText"
   ]
  },
  {
   "cell_type": "code",
   "execution_count": 59,
   "metadata": {},
   "outputs": [
    {
     "name": "stdout",
     "output_type": "stream",
     "text": [
      "Precision: 0.8997\n",
      "Recall: 0.8938\n",
      "F1-measure: 0.8944\n",
      "Accuracy: 0.8938\n"
     ]
    }
   ],
   "source": [
    "train, test = train_test_split(Store, test_size = 0.25, random_state = 42)\n",
    "\n",
    "with open('./models/data1.train.txt', 'w+') as outfile:\n",
    "    for index, row in train.iterrows():\n",
    "        outfile.write('__label__' + str(row['store_id']) + ' '+ row['label'] + '\\n')\n",
    "\n",
    "with open('./models/test.txt', 'w+') as outfile:\n",
    "    for index, row in test.iterrows():\n",
    "        outfile.write('__label__' + str(row['store_id']) + ' '+ row['label'] + '\\n')\n",
    "\n",
    "classifier = fasttext.supervised('./models/data1.train.txt', 'model')\n",
    "result = classifier.test('./models/test.txt')\n",
    "pred1 = classifier.predict(test.label)\n",
    "pred = np.array(pred1)\n",
    "y_test = test.store_id\n",
    "print(\"Precision: {0:6.4f}\".format(metrics.precision_score(y_test, pred, average='weighted')))\n",
    "print(\"Recall: {0:6.4f}\".format(metrics.recall_score(y_test, pred, average='weighted')))\n",
    "print(\"F1-measure: {0:6.4f}\".format(metrics.f1_score(y_test, pred, average='weighted')))\n",
    "print(\"Accuracy: {0:6.4f}\".format(metrics.accuracy_score(y_test, pred)))"
   ]
  },
  {
   "cell_type": "markdown",
   "metadata": {},
   "source": [
    "FastText (удалены знаки пунктуации)"
   ]
  },
  {
   "cell_type": "code",
   "execution_count": 60,
   "metadata": {},
   "outputs": [
    {
     "name": "stdout",
     "output_type": "stream",
     "text": [
      "Precision: 0.9100\n",
      "Recall: 0.9032\n",
      "F1-measure: 0.9042\n",
      "Accuracy: 0.9032\n"
     ]
    }
   ],
   "source": [
    "train, test = train_test_split(df2, test_size = 0.25, random_state = 42)\n",
    "\n",
    "with open('./models/data1.train.txt', 'w+') as outfile:\n",
    "    for index, row in train.iterrows():\n",
    "        outfile.write('__label__' + str(row['store_id']) + ' '+ row['label'] + '\\n')\n",
    "\n",
    "with open('./models/test.txt', 'w+') as outfile:\n",
    "    for index, row in test.iterrows():\n",
    "        outfile.write('__label__' + str(row['store_id']) + ' '+ row['label'] + '\\n')\n",
    "\n",
    "classifier = fasttext.supervised('./models/data1.train.txt', 'model')\n",
    "result = classifier.test('./models/test.txt')\n",
    "pred1 = classifier.predict(test.label)\n",
    "pred = np.array(pred1)\n",
    "y_test = test.store_id\n",
    "print(\"Precision: {0:6.4f}\".format(metrics.precision_score(y_test, pred, average='weighted')))\n",
    "print(\"Recall: {0:6.4f}\".format(metrics.recall_score(y_test, pred, average='weighted')))\n",
    "print(\"F1-measure: {0:6.4f}\".format(metrics.f1_score(y_test, pred, average='weighted')))\n",
    "print(\"Accuracy: {0:6.4f}\".format(metrics.accuracy_score(y_test, pred)))"
   ]
  },
  {
   "cell_type": "code",
   "execution_count": null,
   "metadata": {
    "collapsed": true
   },
   "outputs": [],
   "source": []
  }
 ],
 "metadata": {
  "kernelspec": {
   "display_name": "Python 3",
   "language": "python",
   "name": "python3"
  },
  "language_info": {
   "codemirror_mode": {
    "name": "ipython",
    "version": 3
   },
   "file_extension": ".py",
   "mimetype": "text/x-python",
   "name": "python",
   "nbconvert_exporter": "python",
   "pygments_lexer": "ipython3",
   "version": "3.6.5"
  }
 },
 "nbformat": 4,
 "nbformat_minor": 2
}
